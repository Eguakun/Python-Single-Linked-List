{
  "nbformat": 4,
  "nbformat_minor": 0,
  "metadata": {
    "colab": {
      "name": "Python Single Linked List ",
      "provenance": [],
      "authorship_tag": "ABX9TyNg76d5919b7DJvvu9YyASk"
    },
    "kernelspec": {
      "name": "python3",
      "display_name": "Python 3"
    },
    "language_info": {
      "name": "python"
    }
  },
  "cells": [
    {
      "cell_type": "code",
      "metadata": {
        "colab": {
          "base_uri": "https://localhost:8080/"
        },
        "id": "4f5sNwTbJbLV",
        "outputId": "9bb12563-a107-416f-963c-d1b35310c06a"
      },
      "source": [
        "class Node:\n",
        "  def __init__(self, d, n=None, p=None):\n",
        "    self.data = d\n",
        "    self.next_node = n\n",
        "    self.prev_node=p\n",
        "\n",
        "class LinkedList:\n",
        "\n",
        "  def __init__(self, r = None):\n",
        "    self.root = r\n",
        "    self.size = 0\n",
        "\n",
        "  def add(self,d):\n",
        "    new_node = Node(d, self.root)\n",
        "    self.root = new_node\n",
        "    self.size += 1\n",
        "  \n",
        "  def find(self, d):\n",
        "    this_node = self.root\n",
        "    while this_node is not None:\n",
        "      if this_node.data == d:\n",
        "        return d\n",
        "      else:\n",
        "        this_node = this_node.next_node\n",
        "    return None\n",
        "\n",
        "  def remove(self, d):\n",
        "    this_node = self.root\n",
        "    prev_node = None\n",
        "    while this_node is not None:\n",
        "      if this_node.data == d:\n",
        "        if prev_node is not None:\n",
        "          prev_node.next_node = this_node.next_node\n",
        "        else:\n",
        "          self.root = this_node.next_node\n",
        "        self.size -= 1\n",
        "        return True\n",
        "      else:\n",
        "          prev_node = this_node\n",
        "          this_node = this_node.next_node\n",
        "    return False\n",
        "\n",
        "  def print_list(self):\n",
        "    this_node = self.root\n",
        "    while this_node is not None:\n",
        "      print(this_node.data, end='->')\n",
        "      this_node = this_node.next_node\n",
        "    print('None')\n",
        "\n",
        "\n",
        "\n",
        "my_list = LinkedList()\n",
        "for i in range(10):\n",
        "  my_list.add(i+1)\n",
        "my_list.print_list()\n",
        "\n",
        "my_list.remove(5)\n",
        "my_list.print_list()\n",
        "\n",
        "\n",
        "\n",
        "      \n",
        "\n"
      ],
      "execution_count": 18,
      "outputs": [
        {
          "output_type": "stream",
          "name": "stdout",
          "text": [
            "10->9->8->7->6->5->4->3->2->1->None\n",
            "10->9->8->7->6->4->3->2->1->None\n"
          ]
        }
      ]
    }
  ]
}